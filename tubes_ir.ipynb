{
  "cells": [
    {
      "cell_type": "code",
      "execution_count": null,
      "metadata": {
        "id": "k-9Nk0VFNYHs"
      },
      "outputs": [],
      "source": [
        "https://yunusmuhammad007.medium.com/text-preprocessing-menggunakan-pandas-nltk-dan-sastrawi-untuk-large-dataset-5fb3c0a88571"
      ]
    },
    {
      "cell_type": "markdown",
      "metadata": {
        "id": "zD-J6fMTScHB"
      },
      "source": [
        "#2. Read Data"
      ]
    },
    {
      "cell_type": "code",
      "execution_count": 1,
      "metadata": {
        "id": "gnC6pI4jItLc"
      },
      "outputs": [],
      "source": [
        "import pandas as pd"
      ]
    },
    {
      "cell_type": "code",
      "execution_count": 2,
      "metadata": {
        "colab": {
          "base_uri": "https://localhost:8080/",
          "height": 739
        },
        "id": "XVvoIqvNIvYQ",
        "outputId": "5685e9d5-7e24-4f36-ec62-edc1e328fe75"
      },
      "outputs": [
        {
          "output_type": "execute_result",
          "data": {
            "text/plain": [
              "                                             0  \\\n",
              "0                                    Hi admin?   \n",
              "1                             Assalamu'alikum?   \n",
              "2                                       Hallo?   \n",
              "3                                Stok ada min?   \n",
              "4               Variant wanginya apa aja min?.   \n",
              "5                                Bisa COD min?   \n",
              "6          Variant wangi yang favorit apa min?   \n",
              "7               Apakah ini tanpa alkohol min?.   \n",
              "8                     Wanginya tahan lama min?   \n",
              "9                        Harganya berapa min?.   \n",
              "10     Apakah bisa di mix varian wanginya min?   \n",
              "11     Varian yang cocok untuk cewek apa min?.   \n",
              "12     Varian yang cocok untuk cowok apa min?.   \n",
              "13                         Bisa negi gak min?.   \n",
              "14                     Saya sudah pesan ya kak   \n",
              "15  Wanginya ada yang tidak menyengat gak min?   \n",
              "16                    Pesan sekotak bisa min?.   \n",
              "17                 di semprot apa di oles min?   \n",
              "18               Apakah parfume ini halal min?   \n",
              "19         Apakah sudah terdaftar di BPOM min.   \n",
              "20            Produknya bikin iritasi gak min?   \n",
              "21     Wanginya cocok buat nongkrong gak min?.   \n",
              "\n",
              "                                                    1  \n",
              "0                       hi, ada yang bisa kami bantu?  \n",
              "1          wa'alaikumsalam, ada yang bisa kami bantu?  \n",
              "2                    hallo, ada yang bisa kami bantu?  \n",
              "3                    ada kak, bisa langsung pesan ya.  \n",
              "4                         ada dobha , bakarat, lovely  \n",
              "5                       bisa kak, langsung pesan aja?  \n",
              "6       ada lovely, bakarat. i'm in school right now.  \n",
              "7          iya kak, bisa digunakan untuk sholat juga?  \n",
              "8                            iya kak, bisa seharian .  \n",
              "9     tergantung varian kak, bisa cek katalog ya kak?  \n",
              "10                   bisa kak, langsung pesan aja ya.  \n",
              "11                                    ada lovely kak.  \n",
              "12                                   ada bakarat kak.  \n",
              "13                         gak bisa kak, udah diskon.  \n",
              "14                 baik kak, akan segara kami packing  \n",
              "15      ada kak, buat cewek lovely dan cowok bakarat.  \n",
              "16                        bisa kak, bisa di mix juga?  \n",
              "17                             mayoritas di oles kak?  \n",
              "18                Halal kak, sudah ada logo halalnya.  \n",
              "19                                     iya, sudah kak  \n",
              "20  iaman kak, sejauh ini belum ada laporan iritas...  \n",
              "21    cocok banget kak, bisa di pake di acara apapun?  "
            ],
            "text/html": [
              "\n",
              "  <div id=\"df-a966a074-1f13-4121-8309-39a8d5965416\">\n",
              "    <div class=\"colab-df-container\">\n",
              "      <div>\n",
              "<style scoped>\n",
              "    .dataframe tbody tr th:only-of-type {\n",
              "        vertical-align: middle;\n",
              "    }\n",
              "\n",
              "    .dataframe tbody tr th {\n",
              "        vertical-align: top;\n",
              "    }\n",
              "\n",
              "    .dataframe thead th {\n",
              "        text-align: right;\n",
              "    }\n",
              "</style>\n",
              "<table border=\"1\" class=\"dataframe\">\n",
              "  <thead>\n",
              "    <tr style=\"text-align: right;\">\n",
              "      <th></th>\n",
              "      <th>0</th>\n",
              "      <th>1</th>\n",
              "    </tr>\n",
              "  </thead>\n",
              "  <tbody>\n",
              "    <tr>\n",
              "      <th>0</th>\n",
              "      <td>Hi admin?</td>\n",
              "      <td>hi, ada yang bisa kami bantu?</td>\n",
              "    </tr>\n",
              "    <tr>\n",
              "      <th>1</th>\n",
              "      <td>Assalamu'alikum?</td>\n",
              "      <td>wa'alaikumsalam, ada yang bisa kami bantu?</td>\n",
              "    </tr>\n",
              "    <tr>\n",
              "      <th>2</th>\n",
              "      <td>Hallo?</td>\n",
              "      <td>hallo, ada yang bisa kami bantu?</td>\n",
              "    </tr>\n",
              "    <tr>\n",
              "      <th>3</th>\n",
              "      <td>Stok ada min?</td>\n",
              "      <td>ada kak, bisa langsung pesan ya.</td>\n",
              "    </tr>\n",
              "    <tr>\n",
              "      <th>4</th>\n",
              "      <td>Variant wanginya apa aja min?.</td>\n",
              "      <td>ada dobha , bakarat, lovely</td>\n",
              "    </tr>\n",
              "    <tr>\n",
              "      <th>5</th>\n",
              "      <td>Bisa COD min?</td>\n",
              "      <td>bisa kak, langsung pesan aja?</td>\n",
              "    </tr>\n",
              "    <tr>\n",
              "      <th>6</th>\n",
              "      <td>Variant wangi yang favorit apa min?</td>\n",
              "      <td>ada lovely, bakarat. i'm in school right now.</td>\n",
              "    </tr>\n",
              "    <tr>\n",
              "      <th>7</th>\n",
              "      <td>Apakah ini tanpa alkohol min?.</td>\n",
              "      <td>iya kak, bisa digunakan untuk sholat juga?</td>\n",
              "    </tr>\n",
              "    <tr>\n",
              "      <th>8</th>\n",
              "      <td>Wanginya tahan lama min?</td>\n",
              "      <td>iya kak, bisa seharian .</td>\n",
              "    </tr>\n",
              "    <tr>\n",
              "      <th>9</th>\n",
              "      <td>Harganya berapa min?.</td>\n",
              "      <td>tergantung varian kak, bisa cek katalog ya kak?</td>\n",
              "    </tr>\n",
              "    <tr>\n",
              "      <th>10</th>\n",
              "      <td>Apakah bisa di mix varian wanginya min?</td>\n",
              "      <td>bisa kak, langsung pesan aja ya.</td>\n",
              "    </tr>\n",
              "    <tr>\n",
              "      <th>11</th>\n",
              "      <td>Varian yang cocok untuk cewek apa min?.</td>\n",
              "      <td>ada lovely kak.</td>\n",
              "    </tr>\n",
              "    <tr>\n",
              "      <th>12</th>\n",
              "      <td>Varian yang cocok untuk cowok apa min?.</td>\n",
              "      <td>ada bakarat kak.</td>\n",
              "    </tr>\n",
              "    <tr>\n",
              "      <th>13</th>\n",
              "      <td>Bisa negi gak min?.</td>\n",
              "      <td>gak bisa kak, udah diskon.</td>\n",
              "    </tr>\n",
              "    <tr>\n",
              "      <th>14</th>\n",
              "      <td>Saya sudah pesan ya kak</td>\n",
              "      <td>baik kak, akan segara kami packing</td>\n",
              "    </tr>\n",
              "    <tr>\n",
              "      <th>15</th>\n",
              "      <td>Wanginya ada yang tidak menyengat gak min?</td>\n",
              "      <td>ada kak, buat cewek lovely dan cowok bakarat.</td>\n",
              "    </tr>\n",
              "    <tr>\n",
              "      <th>16</th>\n",
              "      <td>Pesan sekotak bisa min?.</td>\n",
              "      <td>bisa kak, bisa di mix juga?</td>\n",
              "    </tr>\n",
              "    <tr>\n",
              "      <th>17</th>\n",
              "      <td>di semprot apa di oles min?</td>\n",
              "      <td>mayoritas di oles kak?</td>\n",
              "    </tr>\n",
              "    <tr>\n",
              "      <th>18</th>\n",
              "      <td>Apakah parfume ini halal min?</td>\n",
              "      <td>Halal kak, sudah ada logo halalnya.</td>\n",
              "    </tr>\n",
              "    <tr>\n",
              "      <th>19</th>\n",
              "      <td>Apakah sudah terdaftar di BPOM min.</td>\n",
              "      <td>iya, sudah kak</td>\n",
              "    </tr>\n",
              "    <tr>\n",
              "      <th>20</th>\n",
              "      <td>Produknya bikin iritasi gak min?</td>\n",
              "      <td>iaman kak, sejauh ini belum ada laporan iritas...</td>\n",
              "    </tr>\n",
              "    <tr>\n",
              "      <th>21</th>\n",
              "      <td>Wanginya cocok buat nongkrong gak min?.</td>\n",
              "      <td>cocok banget kak, bisa di pake di acara apapun?</td>\n",
              "    </tr>\n",
              "  </tbody>\n",
              "</table>\n",
              "</div>\n",
              "      <button class=\"colab-df-convert\" onclick=\"convertToInteractive('df-a966a074-1f13-4121-8309-39a8d5965416')\"\n",
              "              title=\"Convert this dataframe to an interactive table.\"\n",
              "              style=\"display:none;\">\n",
              "        \n",
              "  <svg xmlns=\"http://www.w3.org/2000/svg\" height=\"24px\"viewBox=\"0 0 24 24\"\n",
              "       width=\"24px\">\n",
              "    <path d=\"M0 0h24v24H0V0z\" fill=\"none\"/>\n",
              "    <path d=\"M18.56 5.44l.94 2.06.94-2.06 2.06-.94-2.06-.94-.94-2.06-.94 2.06-2.06.94zm-11 1L8.5 8.5l.94-2.06 2.06-.94-2.06-.94L8.5 2.5l-.94 2.06-2.06.94zm10 10l.94 2.06.94-2.06 2.06-.94-2.06-.94-.94-2.06-.94 2.06-2.06.94z\"/><path d=\"M17.41 7.96l-1.37-1.37c-.4-.4-.92-.59-1.43-.59-.52 0-1.04.2-1.43.59L10.3 9.45l-7.72 7.72c-.78.78-.78 2.05 0 2.83L4 21.41c.39.39.9.59 1.41.59.51 0 1.02-.2 1.41-.59l7.78-7.78 2.81-2.81c.8-.78.8-2.07 0-2.86zM5.41 20L4 18.59l7.72-7.72 1.47 1.35L5.41 20z\"/>\n",
              "  </svg>\n",
              "      </button>\n",
              "      \n",
              "  <style>\n",
              "    .colab-df-container {\n",
              "      display:flex;\n",
              "      flex-wrap:wrap;\n",
              "      gap: 12px;\n",
              "    }\n",
              "\n",
              "    .colab-df-convert {\n",
              "      background-color: #E8F0FE;\n",
              "      border: none;\n",
              "      border-radius: 50%;\n",
              "      cursor: pointer;\n",
              "      display: none;\n",
              "      fill: #1967D2;\n",
              "      height: 32px;\n",
              "      padding: 0 0 0 0;\n",
              "      width: 32px;\n",
              "    }\n",
              "\n",
              "    .colab-df-convert:hover {\n",
              "      background-color: #E2EBFA;\n",
              "      box-shadow: 0px 1px 2px rgba(60, 64, 67, 0.3), 0px 1px 3px 1px rgba(60, 64, 67, 0.15);\n",
              "      fill: #174EA6;\n",
              "    }\n",
              "\n",
              "    [theme=dark] .colab-df-convert {\n",
              "      background-color: #3B4455;\n",
              "      fill: #D2E3FC;\n",
              "    }\n",
              "\n",
              "    [theme=dark] .colab-df-convert:hover {\n",
              "      background-color: #434B5C;\n",
              "      box-shadow: 0px 1px 3px 1px rgba(0, 0, 0, 0.15);\n",
              "      filter: drop-shadow(0px 1px 2px rgba(0, 0, 0, 0.3));\n",
              "      fill: #FFFFFF;\n",
              "    }\n",
              "  </style>\n",
              "\n",
              "      <script>\n",
              "        const buttonEl =\n",
              "          document.querySelector('#df-a966a074-1f13-4121-8309-39a8d5965416 button.colab-df-convert');\n",
              "        buttonEl.style.display =\n",
              "          google.colab.kernel.accessAllowed ? 'block' : 'none';\n",
              "\n",
              "        async function convertToInteractive(key) {\n",
              "          const element = document.querySelector('#df-a966a074-1f13-4121-8309-39a8d5965416');\n",
              "          const dataTable =\n",
              "            await google.colab.kernel.invokeFunction('convertToInteractive',\n",
              "                                                     [key], {});\n",
              "          if (!dataTable) return;\n",
              "\n",
              "          const docLinkHtml = 'Like what you see? Visit the ' +\n",
              "            '<a target=\"_blank\" href=https://colab.research.google.com/notebooks/data_table.ipynb>data table notebook</a>'\n",
              "            + ' to learn more about interactive tables.';\n",
              "          element.innerHTML = '';\n",
              "          dataTable['output_type'] = 'display_data';\n",
              "          await google.colab.output.renderOutput(dataTable, element);\n",
              "          const docLink = document.createElement('div');\n",
              "          docLink.innerHTML = docLinkHtml;\n",
              "          element.appendChild(docLink);\n",
              "        }\n",
              "      </script>\n",
              "    </div>\n",
              "  </div>\n",
              "  "
            ]
          },
          "metadata": {},
          "execution_count": 2
        }
      ],
      "source": [
        "df = pd.read_csv('dialogs.txt', header=None, delimiter='\\t')\n",
        "df"
      ]
    },
    {
      "cell_type": "code",
      "execution_count": 3,
      "metadata": {
        "colab": {
          "base_uri": "https://localhost:8080/"
        },
        "id": "eVfb-tNnM52D",
        "outputId": "3da16d1b-a016-499f-cd99-b3da8009440e"
      },
      "outputs": [
        {
          "output_type": "stream",
          "name": "stdout",
          "text": [
            "Case Folding Result : \n",
            "\n",
            "0                         Hi admin?\n",
            "1                  Assalamu'alikum?\n",
            "2                            Hallo?\n",
            "3                     Stok ada min?\n",
            "4    Variant wanginya apa aja min?.\n",
            "Name: 0, dtype: object\n",
            "\n",
            "\n",
            "\n",
            "\n"
          ]
        }
      ],
      "source": [
        "# ------ Case Folding --------\n",
        "# gunakan fungsi Series.str.lower() pada Pandas\n",
        "# df[0] = df[0].str.lower()\n",
        "\n",
        "\n",
        "print('Case Folding Result : \\n')\n",
        "print(df[0].head(5))\n",
        "print('\\n\\n\\n')"
      ]
    },
    {
      "cell_type": "code",
      "execution_count": 13,
      "metadata": {
        "colab": {
          "base_uri": "https://localhost:8080/"
        },
        "id": "iUSObem4NUaG",
        "outputId": "580deef8-47c9-4452-8040-2e7c7eca1cd4"
      },
      "outputs": [
        {
          "output_type": "stream",
          "name": "stdout",
          "text": [
            "Tokenizing Result : \n",
            "\n",
            "0                                        [Hi, admin, ?]\n",
            "1                                  [Assalamu'alikum, ?]\n",
            "2                                            [Hallo, ?]\n",
            "3                                   [Stok, ada, min, ?]\n",
            "4              [Variant, wanginya, apa, aja, min, ?, .]\n",
            "5                                   [Bisa, COD, min, ?]\n",
            "6          [Variant, wangi, yang, favorit, apa, min, ?]\n",
            "7              [Apakah, ini, tanpa, alkohol, min, ?, .]\n",
            "8                       [Wanginya, tahan, lama, min, ?]\n",
            "9                         [Harganya, berapa, min, ?, .]\n",
            "10    [Apakah, bisa, di, mix, varian, wanginya, min, ?]\n",
            "11    [Varian, yang, cocok, untuk, cewek, apa, min, ...\n",
            "12    [Varian, yang, cocok, untuk, cowok, apa, min, ...\n",
            "13                         [Bisa, negi, gak, min, ?, .]\n",
            "14                        [Saya, sudah, pesan, ya, kak]\n",
            "15    [Wanginya, ada, yang, tidak, menyengat, gak, m...\n",
            "16                    [Pesan, sekotak, bisa, min, ?, .]\n",
            "17                 [di, semprot, apa, di, oles, min, ?]\n",
            "18                [Apakah, parfume, ini, halal, min, ?]\n",
            "19         [Apakah, sudah, terdaftar, di, BPOM, min, .]\n",
            "20             [Produknya, bikin, iritasi, gak, min, ?]\n",
            "21    [Wanginya, cocok, buat, nongkrong, gak, min, ?...\n",
            "Name: chat_tokens, dtype: object\n",
            "\n",
            "\n",
            "\n",
            "\n"
          ]
        },
        {
          "output_type": "stream",
          "name": "stderr",
          "text": [
            "[nltk_data] Downloading package punkt to /root/nltk_data...\n",
            "[nltk_data]   Package punkt is already up-to-date!\n"
          ]
        }
      ],
      "source": [
        "import string \n",
        "import re #regex library\n",
        "\n",
        "# import word_tokenize & FreqDist from NLTK\n",
        "from nltk.tokenize import word_tokenize \n",
        "from nltk.probability import FreqDist\n",
        "import nltk\n",
        "nltk.download('punkt')\n",
        "# ------ Tokenizing ---------\n",
        "\n",
        "def remove_chat_special(text):\n",
        "    # remove tab, new line, ans back slice\n",
        "    text = text.replace('\\\\t',\" \").replace('\\\\n',\" \").replace('\\\\u',\" \").replace('\\\\',\"\")\n",
        "    # remove non ASCII (emoticon, chinese word, .etc)\n",
        "    text = text.encode('ascii', 'replace').decode('ascii')\n",
        "    # remove mention, link, hashtag\n",
        "    text = ' '.join(re.sub(\"([@#][A-Za-z0-9]+)|(\\w+:\\/\\/\\S+)\",\" \", text).split())\n",
        "    # remove incomplete URL\n",
        "    return text.replace(\"http://\", \" \").replace(\"https://\", \" \")\n",
        "                \n",
        "df[0] = df[0].apply(remove_chat_special)\n",
        "\n",
        "#remove number\n",
        "def remove_number(text):\n",
        "    return  re.sub(r\"\\d+\", \"\", text)\n",
        "\n",
        "df[0] = df[0].apply(remove_number)\n",
        "\n",
        "#remove punctuation\n",
        "def remove_punctuation(text):\n",
        "    return text.translate(str.maketrans(\"\",\"\",string.punctuation))\n",
        "\n",
        "# df[0] = df[0].apply(remove_punctuation)\n",
        "\n",
        "#remove whitespace leading & trailing\n",
        "def remove_whitespace_LT(text):\n",
        "    return text.strip()\n",
        "\n",
        "df[0] = df[0].apply(remove_whitespace_LT)\n",
        "\n",
        "#remove multiple whitespace into single whitespace\n",
        "def remove_whitespace_multiple(text):\n",
        "    return re.sub('\\s+',' ',text)\n",
        "\n",
        "df[0] = df[0].apply(remove_whitespace_multiple)\n",
        "\n",
        "# remove single char\n",
        "def remove_singl_char(text):\n",
        "    return re.sub(r\"\\b[a-zA-Z]\\b\", \"\", text)\n",
        "\n",
        "df[0] = df[0].apply(remove_singl_char)\n",
        "\n",
        "# NLTK word rokenize \n",
        "def word_tokenize_wrapper(text):\n",
        "    return word_tokenize(text)\n",
        "\n",
        "df['chat_tokens'] = df[0].apply(word_tokenize_wrapper)\n",
        "\n",
        "print('Tokenizing Result : \\n') \n",
        "print(df['chat_tokens'])\n",
        "print('\\n\\n\\n')"
      ]
    },
    {
      "cell_type": "code",
      "execution_count": 14,
      "metadata": {
        "colab": {
          "base_uri": "https://localhost:8080/"
        },
        "id": "rrKd4c5ZPWa6",
        "outputId": "50928915-2500-4a79-943f-66aad1c1a055"
      },
      "outputs": [
        {
          "output_type": "stream",
          "name": "stdout",
          "text": [
            "0                         [Hi, admin, ?]\n",
            "1                   [Assalamu'alikum, ?]\n",
            "2                             [Hallo, ?]\n",
            "3                              [Stok, ?]\n",
            "4              [Variant, wanginya, ?, .]\n",
            "5                         [Bisa, COD, ?]\n",
            "6           [Variant, wangi, favorit, ?]\n",
            "7                [Apakah, alkohol, ?, .]\n",
            "8                   [Wanginya, tahan, ?]\n",
            "9                       [Harganya, ?, .]\n",
            "10    [Apakah, mix, varian, wanginya, ?]\n",
            "11          [Varian, cocok, cewek, ?, .]\n",
            "12          [Varian, cocok, cowok, ?, .]\n",
            "13                    [Bisa, negi, ?, .]\n",
            "14                         [Saya, pesan]\n",
            "15              [Wanginya, menyengat, ?]\n",
            "16                [Pesan, sekotak, ?, .]\n",
            "17                    [semprot, oles, ?]\n",
            "18           [Apakah, parfume, halal, ?]\n",
            "19          [Apakah, terdaftar, BPOM, .]\n",
            "20               [Produknya, iritasi, ?]\n",
            "21    [Wanginya, cocok, nongkrong, ?, .]\n",
            "Name: chat_tokens_WSW, dtype: object\n"
          ]
        },
        {
          "output_type": "stream",
          "name": "stderr",
          "text": [
            "[nltk_data] Downloading package stopwords to /root/nltk_data...\n",
            "[nltk_data]   Package stopwords is already up-to-date!\n"
          ]
        }
      ],
      "source": [
        "from nltk.corpus import stopwords\n",
        "import nltk\n",
        "nltk.download('stopwords')\n",
        "# ----------------------- get stopword from NLTK stopword -------------------------------\n",
        "# get stopword indonesia\n",
        "list_stopwords = stopwords.words('indonesian')\n",
        "\n",
        "\n",
        "# ---------------------------- manualy add stopword  ------------------------------------\n",
        "# append additional stopword\n",
        "list_stopwords.extend([\"yg\", \"dg\", \"rt\", \"dgn\", \"ny\", \"d\", 'klo', \n",
        "                       'kalo', 'amp', 'biar', 'bikin', 'bilang', \n",
        "                       'gak', 'ga', 'krn', 'nya', 'nih', 'sih', \n",
        "                       'si', 'tau', 'tdk', 'tuh', 'utk', 'ya', \n",
        "                       'jd', 'jgn', 'sdh', 'aja', 'n', 't', \n",
        "                       'nyg', 'hehe', 'pen', 'u', 'nan', 'loh', 'rt',\n",
        "                       '&amp', 'yah'])\n",
        "\n",
        "# ----------------------- add stopword from txt file ------------------------------------\n",
        "# read txt stopword using pandas\n",
        "txt_stopword = pd.read_csv(\"stopwords.txt\", names= [\"stopwords\"], header = None)\n",
        "\n",
        "# convert stopword string to list & append additional stopword\n",
        "list_stopwords.extend(txt_stopword[\"stopwords\"][0].split(' '))\n",
        "\n",
        "# ---------------------------------------------------------------------------------------\n",
        "\n",
        "# convert list to dictionary\n",
        "list_stopwords = set(list_stopwords)\n",
        "\n",
        "\n",
        "#remove stopword pada list token\n",
        "def stopwords_removal(words):\n",
        "    return [word for word in words if word not in list_stopwords]\n",
        "\n",
        "df['chat_tokens_WSW'] = df['chat_tokens'].apply(stopwords_removal) \n",
        "\n",
        "\n",
        "print(df['chat_tokens_WSW'])"
      ]
    },
    {
      "cell_type": "code",
      "source": [
        "!pip install Sastrawi"
      ],
      "metadata": {
        "colab": {
          "base_uri": "https://localhost:8080/"
        },
        "id": "vjKMkSDkaLqb",
        "outputId": "57eb8c12-fbf4-4c05-a028-7c2c9040a4b3"
      },
      "execution_count": 9,
      "outputs": [
        {
          "output_type": "stream",
          "name": "stdout",
          "text": [
            "Looking in indexes: https://pypi.org/simple, https://us-python.pkg.dev/colab-wheels/public/simple/\n",
            "Collecting Sastrawi\n",
            "  Downloading Sastrawi-1.0.1-py2.py3-none-any.whl (209 kB)\n",
            "\u001b[2K     \u001b[90m━━━━━━━━━━━━━━━━━━━━━━━━━━━━━━━━━━━━━━━\u001b[0m \u001b[32m209.7/209.7 kB\u001b[0m \u001b[31m5.3 MB/s\u001b[0m eta \u001b[36m0:00:00\u001b[0m\n",
            "\u001b[?25hInstalling collected packages: Sastrawi\n",
            "Successfully installed Sastrawi-1.0.1\n"
          ]
        }
      ]
    },
    {
      "cell_type": "code",
      "source": [
        "!pip install swifter"
      ],
      "metadata": {
        "colab": {
          "base_uri": "https://localhost:8080/"
        },
        "id": "dePqH9FZaU1e",
        "outputId": "eac7fd25-508b-44af-dba2-6e98a7c36fd5"
      },
      "execution_count": 11,
      "outputs": [
        {
          "output_type": "stream",
          "name": "stdout",
          "text": [
            "Looking in indexes: https://pypi.org/simple, https://us-python.pkg.dev/colab-wheels/public/simple/\n",
            "Collecting swifter\n",
            "  Downloading swifter-1.3.4.tar.gz (830 kB)\n",
            "\u001b[2K     \u001b[90m━━━━━━━━━━━━━━━━━━━━━━━━━━━━━━━━━━━━━━\u001b[0m \u001b[32m830.9/830.9 kB\u001b[0m \u001b[31m10.6 MB/s\u001b[0m eta \u001b[36m0:00:00\u001b[0m\n",
            "\u001b[?25h  Preparing metadata (setup.py) ... \u001b[?25l\u001b[?25hdone\n",
            "Requirement already satisfied: pandas>=1.0.0 in /usr/local/lib/python3.10/dist-packages (from swifter) (1.5.3)\n",
            "Requirement already satisfied: psutil>=5.6.6 in /usr/local/lib/python3.10/dist-packages (from swifter) (5.9.5)\n",
            "Requirement already satisfied: dask[dataframe]>=2.10.0 in /usr/local/lib/python3.10/dist-packages (from swifter) (2022.12.1)\n",
            "Requirement already satisfied: tqdm>=4.33.0 in /usr/local/lib/python3.10/dist-packages (from swifter) (4.65.0)\n",
            "Requirement already satisfied: ipywidgets>=7.0.0 in /usr/local/lib/python3.10/dist-packages (from swifter) (7.7.1)\n",
            "Requirement already satisfied: cloudpickle>=0.2.2 in /usr/local/lib/python3.10/dist-packages (from swifter) (2.2.1)\n",
            "Requirement already satisfied: parso>0.4.0 in /usr/local/lib/python3.10/dist-packages (from swifter) (0.8.3)\n",
            "Requirement already satisfied: bleach>=3.1.1 in /usr/local/lib/python3.10/dist-packages (from swifter) (6.0.0)\n",
            "Requirement already satisfied: webencodings in /usr/local/lib/python3.10/dist-packages (from bleach>=3.1.1->swifter) (0.5.1)\n",
            "Requirement already satisfied: six>=1.9.0 in /usr/local/lib/python3.10/dist-packages (from bleach>=3.1.1->swifter) (1.16.0)\n",
            "Requirement already satisfied: click>=7.0 in /usr/local/lib/python3.10/dist-packages (from dask[dataframe]>=2.10.0->swifter) (8.1.3)\n",
            "Requirement already satisfied: toolz>=0.8.2 in /usr/local/lib/python3.10/dist-packages (from dask[dataframe]>=2.10.0->swifter) (0.12.0)\n",
            "Requirement already satisfied: packaging>=20.0 in /usr/local/lib/python3.10/dist-packages (from dask[dataframe]>=2.10.0->swifter) (23.1)\n",
            "Requirement already satisfied: partd>=0.3.10 in /usr/local/lib/python3.10/dist-packages (from dask[dataframe]>=2.10.0->swifter) (1.4.0)\n",
            "Requirement already satisfied: fsspec>=0.6.0 in /usr/local/lib/python3.10/dist-packages (from dask[dataframe]>=2.10.0->swifter) (2023.4.0)\n",
            "Requirement already satisfied: pyyaml>=5.3.1 in /usr/local/lib/python3.10/dist-packages (from dask[dataframe]>=2.10.0->swifter) (6.0)\n",
            "Requirement already satisfied: numpy>=1.18 in /usr/local/lib/python3.10/dist-packages (from dask[dataframe]>=2.10.0->swifter) (1.22.4)\n",
            "Requirement already satisfied: widgetsnbextension~=3.6.0 in /usr/local/lib/python3.10/dist-packages (from ipywidgets>=7.0.0->swifter) (3.6.4)\n",
            "Requirement already satisfied: jupyterlab-widgets>=1.0.0 in /usr/local/lib/python3.10/dist-packages (from ipywidgets>=7.0.0->swifter) (3.0.7)\n",
            "Requirement already satisfied: ipykernel>=4.5.1 in /usr/local/lib/python3.10/dist-packages (from ipywidgets>=7.0.0->swifter) (5.5.6)\n",
            "Requirement already satisfied: traitlets>=4.3.1 in /usr/local/lib/python3.10/dist-packages (from ipywidgets>=7.0.0->swifter) (5.7.1)\n",
            "Requirement already satisfied: ipython-genutils~=0.2.0 in /usr/local/lib/python3.10/dist-packages (from ipywidgets>=7.0.0->swifter) (0.2.0)\n",
            "Requirement already satisfied: ipython>=4.0.0 in /usr/local/lib/python3.10/dist-packages (from ipywidgets>=7.0.0->swifter) (7.34.0)\n",
            "Requirement already satisfied: python-dateutil>=2.8.1 in /usr/local/lib/python3.10/dist-packages (from pandas>=1.0.0->swifter) (2.8.2)\n",
            "Requirement already satisfied: pytz>=2020.1 in /usr/local/lib/python3.10/dist-packages (from pandas>=1.0.0->swifter) (2022.7.1)\n",
            "Requirement already satisfied: tornado>=4.2 in /usr/local/lib/python3.10/dist-packages (from ipykernel>=4.5.1->ipywidgets>=7.0.0->swifter) (6.2)\n",
            "Requirement already satisfied: jupyter-client in /usr/local/lib/python3.10/dist-packages (from ipykernel>=4.5.1->ipywidgets>=7.0.0->swifter) (6.1.12)\n",
            "Requirement already satisfied: setuptools>=18.5 in /usr/local/lib/python3.10/dist-packages (from ipython>=4.0.0->ipywidgets>=7.0.0->swifter) (67.7.2)\n",
            "Requirement already satisfied: decorator in /usr/local/lib/python3.10/dist-packages (from ipython>=4.0.0->ipywidgets>=7.0.0->swifter) (4.4.2)\n",
            "Requirement already satisfied: pygments in /usr/local/lib/python3.10/dist-packages (from ipython>=4.0.0->ipywidgets>=7.0.0->swifter) (2.14.0)\n",
            "Requirement already satisfied: pexpect>4.3 in /usr/local/lib/python3.10/dist-packages (from ipython>=4.0.0->ipywidgets>=7.0.0->swifter) (4.8.0)\n",
            "Requirement already satisfied: backcall in /usr/local/lib/python3.10/dist-packages (from ipython>=4.0.0->ipywidgets>=7.0.0->swifter) (0.2.0)\n",
            "Requirement already satisfied: prompt-toolkit!=3.0.0,!=3.0.1,<3.1.0,>=2.0.0 in /usr/local/lib/python3.10/dist-packages (from ipython>=4.0.0->ipywidgets>=7.0.0->swifter) (3.0.38)\n",
            "Requirement already satisfied: matplotlib-inline in /usr/local/lib/python3.10/dist-packages (from ipython>=4.0.0->ipywidgets>=7.0.0->swifter) (0.1.6)\n",
            "Requirement already satisfied: pickleshare in /usr/local/lib/python3.10/dist-packages (from ipython>=4.0.0->ipywidgets>=7.0.0->swifter) (0.7.5)\n",
            "Collecting jedi>=0.16\n",
            "  Downloading jedi-0.18.2-py2.py3-none-any.whl (1.6 MB)\n",
            "\u001b[2K     \u001b[90m━━━━━━━━━━━━━━━━━━━━━━━━━━━━━━━━━━━━━━━━\u001b[0m \u001b[32m1.6/1.6 MB\u001b[0m \u001b[31m54.2 MB/s\u001b[0m eta \u001b[36m0:00:00\u001b[0m\n",
            "\u001b[?25hRequirement already satisfied: locket in /usr/local/lib/python3.10/dist-packages (from partd>=0.3.10->dask[dataframe]>=2.10.0->swifter) (1.0.0)\n",
            "Requirement already satisfied: notebook>=4.4.1 in /usr/local/lib/python3.10/dist-packages (from widgetsnbextension~=3.6.0->ipywidgets>=7.0.0->swifter) (6.4.8)\n",
            "Requirement already satisfied: terminado>=0.8.3 in /usr/local/lib/python3.10/dist-packages (from notebook>=4.4.1->widgetsnbextension~=3.6.0->ipywidgets>=7.0.0->swifter) (0.17.1)\n",
            "Requirement already satisfied: jinja2 in /usr/local/lib/python3.10/dist-packages (from notebook>=4.4.1->widgetsnbextension~=3.6.0->ipywidgets>=7.0.0->swifter) (3.1.2)\n",
            "Requirement already satisfied: jupyter-core>=4.6.1 in /usr/local/lib/python3.10/dist-packages (from notebook>=4.4.1->widgetsnbextension~=3.6.0->ipywidgets>=7.0.0->swifter) (5.3.0)\n",
            "Requirement already satisfied: argon2-cffi in /usr/local/lib/python3.10/dist-packages (from notebook>=4.4.1->widgetsnbextension~=3.6.0->ipywidgets>=7.0.0->swifter) (21.3.0)\n",
            "Requirement already satisfied: pyzmq>=17 in /usr/local/lib/python3.10/dist-packages (from notebook>=4.4.1->widgetsnbextension~=3.6.0->ipywidgets>=7.0.0->swifter) (23.2.1)\n",
            "Requirement already satisfied: nbconvert in /usr/local/lib/python3.10/dist-packages (from notebook>=4.4.1->widgetsnbextension~=3.6.0->ipywidgets>=7.0.0->swifter) (6.5.4)\n",
            "Requirement already satisfied: nest-asyncio>=1.5 in /usr/local/lib/python3.10/dist-packages (from notebook>=4.4.1->widgetsnbextension~=3.6.0->ipywidgets>=7.0.0->swifter) (1.5.6)\n",
            "Requirement already satisfied: nbformat in /usr/local/lib/python3.10/dist-packages (from notebook>=4.4.1->widgetsnbextension~=3.6.0->ipywidgets>=7.0.0->swifter) (5.8.0)\n",
            "Requirement already satisfied: Send2Trash>=1.8.0 in /usr/local/lib/python3.10/dist-packages (from notebook>=4.4.1->widgetsnbextension~=3.6.0->ipywidgets>=7.0.0->swifter) (1.8.0)\n",
            "Requirement already satisfied: prometheus-client in /usr/local/lib/python3.10/dist-packages (from notebook>=4.4.1->widgetsnbextension~=3.6.0->ipywidgets>=7.0.0->swifter) (0.16.0)\n",
            "Requirement already satisfied: ptyprocess>=0.5 in /usr/local/lib/python3.10/dist-packages (from pexpect>4.3->ipython>=4.0.0->ipywidgets>=7.0.0->swifter) (0.7.0)\n",
            "Requirement already satisfied: wcwidth in /usr/local/lib/python3.10/dist-packages (from prompt-toolkit!=3.0.0,!=3.0.1,<3.1.0,>=2.0.0->ipython>=4.0.0->ipywidgets>=7.0.0->swifter) (0.2.6)\n",
            "Requirement already satisfied: platformdirs>=2.5 in /usr/local/lib/python3.10/dist-packages (from jupyter-core>=4.6.1->notebook>=4.4.1->widgetsnbextension~=3.6.0->ipywidgets>=7.0.0->swifter) (3.3.0)\n",
            "Requirement already satisfied: argon2-cffi-bindings in /usr/local/lib/python3.10/dist-packages (from argon2-cffi->notebook>=4.4.1->widgetsnbextension~=3.6.0->ipywidgets>=7.0.0->swifter) (21.2.0)\n",
            "Requirement already satisfied: MarkupSafe>=2.0 in /usr/local/lib/python3.10/dist-packages (from jinja2->notebook>=4.4.1->widgetsnbextension~=3.6.0->ipywidgets>=7.0.0->swifter) (2.1.2)\n",
            "Requirement already satisfied: jupyterlab-pygments in /usr/local/lib/python3.10/dist-packages (from nbconvert->notebook>=4.4.1->widgetsnbextension~=3.6.0->ipywidgets>=7.0.0->swifter) (0.2.2)\n",
            "Requirement already satisfied: entrypoints>=0.2.2 in /usr/local/lib/python3.10/dist-packages (from nbconvert->notebook>=4.4.1->widgetsnbextension~=3.6.0->ipywidgets>=7.0.0->swifter) (0.4)\n",
            "Requirement already satisfied: defusedxml in /usr/local/lib/python3.10/dist-packages (from nbconvert->notebook>=4.4.1->widgetsnbextension~=3.6.0->ipywidgets>=7.0.0->swifter) (0.7.1)\n",
            "Requirement already satisfied: nbclient>=0.5.0 in /usr/local/lib/python3.10/dist-packages (from nbconvert->notebook>=4.4.1->widgetsnbextension~=3.6.0->ipywidgets>=7.0.0->swifter) (0.7.4)\n",
            "Requirement already satisfied: pandocfilters>=1.4.1 in /usr/local/lib/python3.10/dist-packages (from nbconvert->notebook>=4.4.1->widgetsnbextension~=3.6.0->ipywidgets>=7.0.0->swifter) (1.5.0)\n",
            "Requirement already satisfied: tinycss2 in /usr/local/lib/python3.10/dist-packages (from nbconvert->notebook>=4.4.1->widgetsnbextension~=3.6.0->ipywidgets>=7.0.0->swifter) (1.2.1)\n",
            "Requirement already satisfied: mistune<2,>=0.8.1 in /usr/local/lib/python3.10/dist-packages (from nbconvert->notebook>=4.4.1->widgetsnbextension~=3.6.0->ipywidgets>=7.0.0->swifter) (0.8.4)\n",
            "Requirement already satisfied: lxml in /usr/local/lib/python3.10/dist-packages (from nbconvert->notebook>=4.4.1->widgetsnbextension~=3.6.0->ipywidgets>=7.0.0->swifter) (4.9.2)\n",
            "Requirement already satisfied: beautifulsoup4 in /usr/local/lib/python3.10/dist-packages (from nbconvert->notebook>=4.4.1->widgetsnbextension~=3.6.0->ipywidgets>=7.0.0->swifter) (4.11.2)\n",
            "Requirement already satisfied: fastjsonschema in /usr/local/lib/python3.10/dist-packages (from nbformat->notebook>=4.4.1->widgetsnbextension~=3.6.0->ipywidgets>=7.0.0->swifter) (2.16.3)\n",
            "Requirement already satisfied: jsonschema>=2.6 in /usr/local/lib/python3.10/dist-packages (from nbformat->notebook>=4.4.1->widgetsnbextension~=3.6.0->ipywidgets>=7.0.0->swifter) (4.3.3)\n",
            "Requirement already satisfied: attrs>=17.4.0 in /usr/local/lib/python3.10/dist-packages (from jsonschema>=2.6->nbformat->notebook>=4.4.1->widgetsnbextension~=3.6.0->ipywidgets>=7.0.0->swifter) (23.1.0)\n",
            "Requirement already satisfied: pyrsistent!=0.17.0,!=0.17.1,!=0.17.2,>=0.14.0 in /usr/local/lib/python3.10/dist-packages (from jsonschema>=2.6->nbformat->notebook>=4.4.1->widgetsnbextension~=3.6.0->ipywidgets>=7.0.0->swifter) (0.19.3)\n",
            "Requirement already satisfied: cffi>=1.0.1 in /usr/local/lib/python3.10/dist-packages (from argon2-cffi-bindings->argon2-cffi->notebook>=4.4.1->widgetsnbextension~=3.6.0->ipywidgets>=7.0.0->swifter) (1.15.1)\n",
            "Requirement already satisfied: soupsieve>1.2 in /usr/local/lib/python3.10/dist-packages (from beautifulsoup4->nbconvert->notebook>=4.4.1->widgetsnbextension~=3.6.0->ipywidgets>=7.0.0->swifter) (2.4.1)\n",
            "Requirement already satisfied: pycparser in /usr/local/lib/python3.10/dist-packages (from cffi>=1.0.1->argon2-cffi-bindings->argon2-cffi->notebook>=4.4.1->widgetsnbextension~=3.6.0->ipywidgets>=7.0.0->swifter) (2.21)\n",
            "Building wheels for collected packages: swifter\n",
            "  Building wheel for swifter (setup.py) ... \u001b[?25l\u001b[?25hdone\n",
            "  Created wheel for swifter: filename=swifter-1.3.4-py3-none-any.whl size=16321 sha256=ae9ad8fed0eea00dc235f9d97937de33efbe9326a79336c232e79fb560c4ba85\n",
            "  Stored in directory: /root/.cache/pip/wheels/6c/bd/3e/2d6afc9bc36c9975f8e4215a270bbac6580c4361ebd6bb2323\n",
            "Successfully built swifter\n",
            "Installing collected packages: jedi, swifter\n",
            "Successfully installed jedi-0.18.2 swifter-1.3.4\n"
          ]
        }
      ]
    },
    {
      "cell_type": "code",
      "execution_count": 15,
      "metadata": {
        "colab": {
          "base_uri": "https://localhost:8080/",
          "height": 1000,
          "referenced_widgets": [
            "9ebea78700414d18b53aba0228f6db62",
            "a243e9b2624a4ce49696653881672ad7",
            "f013721630ae405a8b2b73d4c5d37f54",
            "ba1b189458fe47fc8ab8f7ed37deeca6",
            "90cf927ef08e4ed480f5b4069c047757",
            "6bea4542a5c84a9f837cd09de2cff7b4",
            "9b7e8dc7d1b546699df9b9a9f384b09b",
            "d046dc0f1b5e4c3fabdd49c9cb6d45b7",
            "6d8f15800f1949fa84dbe9edbb9c39c1",
            "f4392d7f52ca43f8b396d98f1d3688e2",
            "e5e6b50458e64244a21ada8147539fec"
          ]
        },
        "id": "kFKn4KWTROJ_",
        "outputId": "c05a04fe-0432-4fa1-9605-3c07e76d49ce"
      },
      "outputs": [
        {
          "output_type": "stream",
          "name": "stdout",
          "text": [
            "39\n",
            "------------------------\n",
            "Hi : hi\n",
            "admin : admin\n",
            "? : \n",
            "Assalamu'alikum : assalamu alikum\n",
            "Hallo : hallo\n",
            "Stok : stok\n",
            "Variant : variant\n",
            "wanginya : wangi\n",
            ". : \n",
            "Bisa : bisa\n",
            "COD : cod\n",
            "wangi : wangi\n",
            "favorit : favorit\n",
            "Apakah : apakah\n",
            "alkohol : alkohol\n",
            "Wanginya : wangi\n",
            "tahan : tahan\n",
            "Harganya : harga\n",
            "mix : mix\n",
            "varian : varian\n",
            "Varian : varian\n",
            "cocok : cocok\n",
            "cewek : cewek\n",
            "cowok : cowok\n",
            "negi : negi\n",
            "Saya : saya\n",
            "pesan : pesan\n",
            "menyengat : sengat\n",
            "Pesan : pesan\n",
            "sekotak : kotak\n",
            "semprot : semprot\n",
            "oles : oles\n",
            "parfume : parfume\n",
            "halal : halal\n",
            "terdaftar : daftar\n",
            "BPOM : bpom\n",
            "Produknya : produk\n",
            "iritasi : iritasi\n",
            "nongkrong : nongkrong\n",
            "{'Hi': 'hi', 'admin': 'admin', '?': '', \"Assalamu'alikum\": 'assalamu alikum', 'Hallo': 'hallo', 'Stok': 'stok', 'Variant': 'variant', 'wanginya': 'wangi', '.': '', 'Bisa': 'bisa', 'COD': 'cod', 'wangi': 'wangi', 'favorit': 'favorit', 'Apakah': 'apakah', 'alkohol': 'alkohol', 'Wanginya': 'wangi', 'tahan': 'tahan', 'Harganya': 'harga', 'mix': 'mix', 'varian': 'varian', 'Varian': 'varian', 'cocok': 'cocok', 'cewek': 'cewek', 'cowok': 'cowok', 'negi': 'negi', 'Saya': 'saya', 'pesan': 'pesan', 'menyengat': 'sengat', 'Pesan': 'pesan', 'sekotak': 'kotak', 'semprot': 'semprot', 'oles': 'oles', 'parfume': 'parfume', 'halal': 'halal', 'terdaftar': 'daftar', 'BPOM': 'bpom', 'Produknya': 'produk', 'iritasi': 'iritasi', 'nongkrong': 'nongkrong'}\n",
            "------------------------\n"
          ]
        },
        {
          "output_type": "display_data",
          "data": {
            "text/plain": [
              "Pandas Apply:   0%|          | 0/22 [00:00<?, ?it/s]"
            ],
            "application/vnd.jupyter.widget-view+json": {
              "version_major": 2,
              "version_minor": 0,
              "model_id": "9ebea78700414d18b53aba0228f6db62"
            }
          },
          "metadata": {}
        },
        {
          "output_type": "stream",
          "name": "stdout",
          "text": [
            "0                      [hi, admin, ]\n",
            "1                [assalamu alikum, ]\n",
            "2                          [hallo, ]\n",
            "3                           [stok, ]\n",
            "4               [variant, wangi, , ]\n",
            "5                      [bisa, cod, ]\n",
            "6        [variant, wangi, favorit, ]\n",
            "7              [apakah, alkohol, , ]\n",
            "8                   [wangi, tahan, ]\n",
            "9                        [harga, , ]\n",
            "10    [apakah, mix, varian, wangi, ]\n",
            "11        [varian, cocok, cewek, , ]\n",
            "12        [varian, cocok, cowok, , ]\n",
            "13                  [bisa, negi, , ]\n",
            "14                     [saya, pesan]\n",
            "15                 [wangi, sengat, ]\n",
            "16                [pesan, kotak, , ]\n",
            "17                 [semprot, oles, ]\n",
            "18        [apakah, parfume, halal, ]\n",
            "19          [apakah, daftar, bpom, ]\n",
            "20               [produk, iritasi, ]\n",
            "21     [wangi, cocok, nongkrong, , ]\n",
            "Name: chat_tokens_stemmed, dtype: object\n"
          ]
        }
      ],
      "source": [
        "# import Sastrawi package\n",
        "from Sastrawi.Stemmer.StemmerFactory import StemmerFactory\n",
        "import swifter\n",
        "\n",
        "\n",
        "# create stemmer\n",
        "factory = StemmerFactory()\n",
        "stemmer = factory.create_stemmer()\n",
        "\n",
        "# stemmed\n",
        "def stemmed_wrapper(term):\n",
        "    # print(\"term =>\", term)\n",
        "    return stemmer.stem(term)\n",
        "\n",
        "term_dict = {}\n",
        "\n",
        "for document in df['chat_tokens_WSW']:\n",
        "    for term in document:\n",
        "        if term not in term_dict:\n",
        "            term_dict[term] = ' '\n",
        "            \n",
        "print(len(term_dict))\n",
        "print(\"------------------------\")\n",
        "\n",
        "for term in term_dict:\n",
        "    term_dict[term] = stemmed_wrapper(term)\n",
        "    print(term,\":\" ,term_dict[term])\n",
        "    \n",
        "print(term_dict)\n",
        "print(\"------------------------\")\n",
        "\n",
        "\n",
        "# apply stemmed term to dataframe\n",
        "def get_stemmed_term(document):\n",
        "    return [term_dict[term] for term in document]\n",
        "\n",
        "df['chat_tokens_stemmed'] = df['chat_tokens_WSW'].swifter.apply(get_stemmed_term)\n",
        "print(df['chat_tokens_stemmed'])"
      ]
    },
    {
      "cell_type": "code",
      "execution_count": 16,
      "metadata": {
        "id": "5tpz_CVFShNb"
      },
      "outputs": [],
      "source": [
        "df.to_csv(\"chat.csv\")"
      ]
    },
    {
      "cell_type": "code",
      "source": [
        "def stem_text(text):\n",
        "    stemmed_text = stemmer.stem(text)\n",
        "    return stemmed_text"
      ],
      "metadata": {
        "id": "4baYijabp_3C"
      },
      "execution_count": 17,
      "outputs": []
    },
    {
      "cell_type": "code",
      "execution_count": 18,
      "metadata": {
        "id": "Q03X76ZZWvg-"
      },
      "outputs": [],
      "source": [
        "def listToString(s):\n",
        "    characters_to_remove = \",[!@#$]'\"\n",
        "\n",
        "    result = ''.join(char for char in s if char not in characters_to_remove)\n",
        "\n",
        "    return result\n",
        "       \n"
      ]
    },
    {
      "cell_type": "code",
      "source": [
        "def listToStringTwo(s):\n",
        "    characters_to_remove = \",[!@#$]'\"\n",
        "\n",
        "    result = ' '.join(char for char in s if char not in characters_to_remove)\n",
        "\n",
        "    return result"
      ],
      "metadata": {
        "id": "eZQ-1Lsts-TZ"
      },
      "execution_count": 19,
      "outputs": []
    },
    {
      "cell_type": "code",
      "execution_count": 20,
      "metadata": {
        "colab": {
          "base_uri": "https://localhost:8080/"
        },
        "id": "V6uOlcJLTOZr",
        "outputId": "323cb147-3b74-4833-dc31-c8a4dcadf17d"
      },
      "outputs": [
        {
          "output_type": "execute_result",
          "data": {
            "text/plain": [
              "0                    hi admin \n",
              "1             assalamu alikum \n",
              "2                       hallo \n",
              "3                        stok \n",
              "4              variant wangi  \n",
              "5                    bisa cod \n",
              "6       variant wangi favorit \n",
              "7             apakah alkohol  \n",
              "8                 wangi tahan \n",
              "9                      harga  \n",
              "10    apakah mix varian wangi \n",
              "11        varian cocok cewek  \n",
              "12        varian cocok cowok  \n",
              "13                 bisa negi  \n",
              "14                  saya pesan\n",
              "15               wangi sengat \n",
              "16               pesan kotak  \n",
              "17               semprot oles \n",
              "18       apakah parfume halal \n",
              "19         apakah daftar bpom \n",
              "20             produk iritasi \n",
              "21     wangi cocok nongkrong  \n",
              "Name: chat_text, dtype: object"
            ]
          },
          "metadata": {},
          "execution_count": 20
        }
      ],
      "source": [
        "chat = pd.read_csv(\"chat.csv\", index_col=None)\n",
        "chat['chat_text'] = chat[\"chat_tokens_stemmed\"].apply(listToString)\n",
        "chat['chat_text']"
      ]
    },
    {
      "cell_type": "markdown",
      "metadata": {
        "id": "XJ-5lv0PSjsA"
      },
      "source": [
        "#3. Extract Feature"
      ]
    },
    {
      "cell_type": "code",
      "execution_count": 21,
      "metadata": {
        "id": "PbxtWRPGNPKP"
      },
      "outputs": [],
      "source": [
        "from sklearn.feature_extraction.text import TfidfVectorizer\n",
        "\n",
        "vec = TfidfVectorizer(lowercase=True)\n",
        "X = vec.fit_transform(chat['chat_text'])\n",
        "question = X.toarray()"
      ]
    },
    {
      "cell_type": "code",
      "execution_count": null,
      "metadata": {
        "id": "wdjFLbtobsDI"
      },
      "outputs": [],
      "source": [
        "# question"
      ]
    },
    {
      "cell_type": "code",
      "execution_count": null,
      "metadata": {
        "colab": {
          "base_uri": "https://localhost:8080/"
        },
        "id": "uNTX7OMPnFdR",
        "outputId": "13aff40a-586a-41d1-9a77-3dda9ce99579"
      },
      "outputs": [
        {
          "output_type": "execute_result",
          "data": {
            "text/plain": [
              "29"
            ]
          },
          "metadata": {},
          "execution_count": 17
        }
      ],
      "source": [
        "len(question[0])"
      ]
    },
    {
      "cell_type": "markdown",
      "metadata": {
        "id": "93oq4z52SqTq"
      },
      "source": [
        "#4. Ayo bikin chatbot"
      ]
    },
    {
      "cell_type": "code",
      "execution_count": null,
      "metadata": {
        "id": "4pn-7NMGUGUd"
      },
      "outputs": [],
      "source": [
        "import numpy as np\n",
        "from sklearn.metrics.pairwise import cosine_similarity"
      ]
    },
    {
      "cell_type": "code",
      "execution_count": null,
      "metadata": {
        "colab": {
          "base_uri": "https://localhost:8080/"
        },
        "id": "aybJP5U_TCbs",
        "outputId": "71757762-0a76-4dac-bf6b-c0dd6238fccc"
      },
      "outputs": [
        {
          "output_type": "stream",
          "name": "stdout",
          "text": [
            "Bot: Hi I am a Bot. To exit, type [bye].\n",
            "Me: Wangi favorit apa min?\n",
            "hasil => wangi favorit\n",
            "Bot:  ada lovely, bakarat. i'm in school right now.\n",
            "Me: Tanpa alkohol min?.\n",
            "hasil => alkohol\n",
            "Bot:  iya kak, bisa digunakan untuk sholat juga?\n",
            "Me: Apakah Wanginya tahan lama min, bisa seharian?\n",
            "hasil => wangi tahan\n",
            "Bot:  iya kak, bisa seharian .\n",
            "Me: Berapa min Harganya?.\n",
            "hasil => harga\n",
            "Bot:  tergantung varian kak, bisa cek katalog ya kak?\n",
            "Me: di mix varian wanginya bisa min?\n",
            "hasil => mix varian wangi\n",
            "Bot:  bisa kak, langsung pesan aja ya.\n",
            "Me: wangi yang cocok untuk cewek apa min, rekomendasi?.\n",
            "hasil => wangi cocok cewek rekomendasi\n",
            "Bot:  ada lovely kak.\n",
            "Me: Varian untuk cowok apa min?.\n",
            "hasil => varian cowok\n",
            "Bot:  ada bakarat kak.\n",
            "Me: Nego ya min?.\n",
            "hasil => nego\n",
            "Bot:  hi, ada yang bisa kami bantu?\n",
            "Me: Sudah pesan kak\tbaik kak,\n",
            "hasil => pesan\n",
            "Bot:  baik kak, akan segara kami packing\n",
            "Me: Cari yang tidak menyengat min?\n",
            "hasil => cari sengat\n",
            "Bot:  ada kak, buat cewek lovely dan cowok bakarat.\n",
            "Me: hy\n",
            "hasil => hy\n",
            "Bot:  hi, ada yang bisa kami bantu?\n",
            "Me: Assalamu'alikum\n",
            "hasil => assalamualikum\n",
            "Bot:  wa'alaikumsalam, ada yang bisa kami bantu?\n",
            "Me: assalam\n",
            "hasil => assalam\n",
            "Bot:  hi, ada yang bisa kami bantu?\n",
            "Me: masih ada min\n",
            "hasil => \n",
            "Bot:  hi, ada yang bisa kami bantu?\n",
            "Me: stok ada min\n",
            "hasil => stok\n",
            "Bot:  ada kak, bisa langsung pesan ya.\n",
            "Me: Cod min\n",
            "hasil => cod\n",
            "Bot:  bisa kak, langsung pesan aja?\n",
            "Me: exit\n",
            "hasil => exit\n",
            "Bot: Chat with you later, stay safe!!\n"
          ]
        }
      ],
      "source": [
        "import numpy as np\n",
        "from sklearn.metrics.pairwise import cosine_similarity\n",
        "print('Bot: Hi I am a Bot. To exit, type [bye].') \n",
        "exit_list = ['exit', 'see you later', 'bye', 'quit', 'break', 'stop']\n",
        "\n",
        "while True:\n",
        "  text = input('Me: ').lower()\n",
        "  # Tokenizing\n",
        "  text = remove_number(text)\n",
        "  text = remove_punctuation(text)\n",
        "  text = remove_whitespace_LT(text)\n",
        "  text = remove_whitespace_multiple(text)\n",
        "  text = remove_singl_char(text)\n",
        "  text = stem_text(text)\n",
        "  text = word_tokenize_wrapper(text)\n",
        "  text = stopwords_removal(text)\n",
        "  text = listToStringTwo(text)\n",
        "  print('hasil =>',text)\n",
        "  if text in exit_list:\n",
        "    print('Bot: Chat with you later, stay safe!!')\n",
        "    break\n",
        "  else:\n",
        "    text_vec = vec.transform([text])\n",
        "    text_vec = text_vec.toarray()\n",
        "\n",
        "    text_vec = text_vec[0].reshape(1, -1) \n",
        "    similarity = cosine_similarity(text_vec, question)\n",
        "    answer_index = np.argmax(similarity[0])\n",
        "    answer = df[1].iloc[answer_index]\n",
        "    print('Bot: ', answer)"
      ]
    }
  ],
  "metadata": {
    "colab": {
      "provenance": []
    },
    "kernelspec": {
      "display_name": "Python 3",
      "name": "python3"
    },
    "language_info": {
      "name": "python"
    },
    "widgets": {
      "application/vnd.jupyter.widget-state+json": {
        "9ebea78700414d18b53aba0228f6db62": {
          "model_module": "@jupyter-widgets/controls",
          "model_name": "HBoxModel",
          "model_module_version": "1.5.0",
          "state": {
            "_dom_classes": [],
            "_model_module": "@jupyter-widgets/controls",
            "_model_module_version": "1.5.0",
            "_model_name": "HBoxModel",
            "_view_count": null,
            "_view_module": "@jupyter-widgets/controls",
            "_view_module_version": "1.5.0",
            "_view_name": "HBoxView",
            "box_style": "",
            "children": [
              "IPY_MODEL_a243e9b2624a4ce49696653881672ad7",
              "IPY_MODEL_f013721630ae405a8b2b73d4c5d37f54",
              "IPY_MODEL_ba1b189458fe47fc8ab8f7ed37deeca6"
            ],
            "layout": "IPY_MODEL_90cf927ef08e4ed480f5b4069c047757"
          }
        },
        "a243e9b2624a4ce49696653881672ad7": {
          "model_module": "@jupyter-widgets/controls",
          "model_name": "HTMLModel",
          "model_module_version": "1.5.0",
          "state": {
            "_dom_classes": [],
            "_model_module": "@jupyter-widgets/controls",
            "_model_module_version": "1.5.0",
            "_model_name": "HTMLModel",
            "_view_count": null,
            "_view_module": "@jupyter-widgets/controls",
            "_view_module_version": "1.5.0",
            "_view_name": "HTMLView",
            "description": "",
            "description_tooltip": null,
            "layout": "IPY_MODEL_6bea4542a5c84a9f837cd09de2cff7b4",
            "placeholder": "​",
            "style": "IPY_MODEL_9b7e8dc7d1b546699df9b9a9f384b09b",
            "value": "Pandas Apply: 100%"
          }
        },
        "f013721630ae405a8b2b73d4c5d37f54": {
          "model_module": "@jupyter-widgets/controls",
          "model_name": "FloatProgressModel",
          "model_module_version": "1.5.0",
          "state": {
            "_dom_classes": [],
            "_model_module": "@jupyter-widgets/controls",
            "_model_module_version": "1.5.0",
            "_model_name": "FloatProgressModel",
            "_view_count": null,
            "_view_module": "@jupyter-widgets/controls",
            "_view_module_version": "1.5.0",
            "_view_name": "ProgressView",
            "bar_style": "success",
            "description": "",
            "description_tooltip": null,
            "layout": "IPY_MODEL_d046dc0f1b5e4c3fabdd49c9cb6d45b7",
            "max": 22,
            "min": 0,
            "orientation": "horizontal",
            "style": "IPY_MODEL_6d8f15800f1949fa84dbe9edbb9c39c1",
            "value": 22
          }
        },
        "ba1b189458fe47fc8ab8f7ed37deeca6": {
          "model_module": "@jupyter-widgets/controls",
          "model_name": "HTMLModel",
          "model_module_version": "1.5.0",
          "state": {
            "_dom_classes": [],
            "_model_module": "@jupyter-widgets/controls",
            "_model_module_version": "1.5.0",
            "_model_name": "HTMLModel",
            "_view_count": null,
            "_view_module": "@jupyter-widgets/controls",
            "_view_module_version": "1.5.0",
            "_view_name": "HTMLView",
            "description": "",
            "description_tooltip": null,
            "layout": "IPY_MODEL_f4392d7f52ca43f8b396d98f1d3688e2",
            "placeholder": "​",
            "style": "IPY_MODEL_e5e6b50458e64244a21ada8147539fec",
            "value": " 22/22 [00:00&lt;00:00, 954.28it/s]"
          }
        },
        "90cf927ef08e4ed480f5b4069c047757": {
          "model_module": "@jupyter-widgets/base",
          "model_name": "LayoutModel",
          "model_module_version": "1.2.0",
          "state": {
            "_model_module": "@jupyter-widgets/base",
            "_model_module_version": "1.2.0",
            "_model_name": "LayoutModel",
            "_view_count": null,
            "_view_module": "@jupyter-widgets/base",
            "_view_module_version": "1.2.0",
            "_view_name": "LayoutView",
            "align_content": null,
            "align_items": null,
            "align_self": null,
            "border": null,
            "bottom": null,
            "display": null,
            "flex": null,
            "flex_flow": null,
            "grid_area": null,
            "grid_auto_columns": null,
            "grid_auto_flow": null,
            "grid_auto_rows": null,
            "grid_column": null,
            "grid_gap": null,
            "grid_row": null,
            "grid_template_areas": null,
            "grid_template_columns": null,
            "grid_template_rows": null,
            "height": null,
            "justify_content": null,
            "justify_items": null,
            "left": null,
            "margin": null,
            "max_height": null,
            "max_width": null,
            "min_height": null,
            "min_width": null,
            "object_fit": null,
            "object_position": null,
            "order": null,
            "overflow": null,
            "overflow_x": null,
            "overflow_y": null,
            "padding": null,
            "right": null,
            "top": null,
            "visibility": null,
            "width": null
          }
        },
        "6bea4542a5c84a9f837cd09de2cff7b4": {
          "model_module": "@jupyter-widgets/base",
          "model_name": "LayoutModel",
          "model_module_version": "1.2.0",
          "state": {
            "_model_module": "@jupyter-widgets/base",
            "_model_module_version": "1.2.0",
            "_model_name": "LayoutModel",
            "_view_count": null,
            "_view_module": "@jupyter-widgets/base",
            "_view_module_version": "1.2.0",
            "_view_name": "LayoutView",
            "align_content": null,
            "align_items": null,
            "align_self": null,
            "border": null,
            "bottom": null,
            "display": null,
            "flex": null,
            "flex_flow": null,
            "grid_area": null,
            "grid_auto_columns": null,
            "grid_auto_flow": null,
            "grid_auto_rows": null,
            "grid_column": null,
            "grid_gap": null,
            "grid_row": null,
            "grid_template_areas": null,
            "grid_template_columns": null,
            "grid_template_rows": null,
            "height": null,
            "justify_content": null,
            "justify_items": null,
            "left": null,
            "margin": null,
            "max_height": null,
            "max_width": null,
            "min_height": null,
            "min_width": null,
            "object_fit": null,
            "object_position": null,
            "order": null,
            "overflow": null,
            "overflow_x": null,
            "overflow_y": null,
            "padding": null,
            "right": null,
            "top": null,
            "visibility": null,
            "width": null
          }
        },
        "9b7e8dc7d1b546699df9b9a9f384b09b": {
          "model_module": "@jupyter-widgets/controls",
          "model_name": "DescriptionStyleModel",
          "model_module_version": "1.5.0",
          "state": {
            "_model_module": "@jupyter-widgets/controls",
            "_model_module_version": "1.5.0",
            "_model_name": "DescriptionStyleModel",
            "_view_count": null,
            "_view_module": "@jupyter-widgets/base",
            "_view_module_version": "1.2.0",
            "_view_name": "StyleView",
            "description_width": ""
          }
        },
        "d046dc0f1b5e4c3fabdd49c9cb6d45b7": {
          "model_module": "@jupyter-widgets/base",
          "model_name": "LayoutModel",
          "model_module_version": "1.2.0",
          "state": {
            "_model_module": "@jupyter-widgets/base",
            "_model_module_version": "1.2.0",
            "_model_name": "LayoutModel",
            "_view_count": null,
            "_view_module": "@jupyter-widgets/base",
            "_view_module_version": "1.2.0",
            "_view_name": "LayoutView",
            "align_content": null,
            "align_items": null,
            "align_self": null,
            "border": null,
            "bottom": null,
            "display": null,
            "flex": null,
            "flex_flow": null,
            "grid_area": null,
            "grid_auto_columns": null,
            "grid_auto_flow": null,
            "grid_auto_rows": null,
            "grid_column": null,
            "grid_gap": null,
            "grid_row": null,
            "grid_template_areas": null,
            "grid_template_columns": null,
            "grid_template_rows": null,
            "height": null,
            "justify_content": null,
            "justify_items": null,
            "left": null,
            "margin": null,
            "max_height": null,
            "max_width": null,
            "min_height": null,
            "min_width": null,
            "object_fit": null,
            "object_position": null,
            "order": null,
            "overflow": null,
            "overflow_x": null,
            "overflow_y": null,
            "padding": null,
            "right": null,
            "top": null,
            "visibility": null,
            "width": null
          }
        },
        "6d8f15800f1949fa84dbe9edbb9c39c1": {
          "model_module": "@jupyter-widgets/controls",
          "model_name": "ProgressStyleModel",
          "model_module_version": "1.5.0",
          "state": {
            "_model_module": "@jupyter-widgets/controls",
            "_model_module_version": "1.5.0",
            "_model_name": "ProgressStyleModel",
            "_view_count": null,
            "_view_module": "@jupyter-widgets/base",
            "_view_module_version": "1.2.0",
            "_view_name": "StyleView",
            "bar_color": null,
            "description_width": ""
          }
        },
        "f4392d7f52ca43f8b396d98f1d3688e2": {
          "model_module": "@jupyter-widgets/base",
          "model_name": "LayoutModel",
          "model_module_version": "1.2.0",
          "state": {
            "_model_module": "@jupyter-widgets/base",
            "_model_module_version": "1.2.0",
            "_model_name": "LayoutModel",
            "_view_count": null,
            "_view_module": "@jupyter-widgets/base",
            "_view_module_version": "1.2.0",
            "_view_name": "LayoutView",
            "align_content": null,
            "align_items": null,
            "align_self": null,
            "border": null,
            "bottom": null,
            "display": null,
            "flex": null,
            "flex_flow": null,
            "grid_area": null,
            "grid_auto_columns": null,
            "grid_auto_flow": null,
            "grid_auto_rows": null,
            "grid_column": null,
            "grid_gap": null,
            "grid_row": null,
            "grid_template_areas": null,
            "grid_template_columns": null,
            "grid_template_rows": null,
            "height": null,
            "justify_content": null,
            "justify_items": null,
            "left": null,
            "margin": null,
            "max_height": null,
            "max_width": null,
            "min_height": null,
            "min_width": null,
            "object_fit": null,
            "object_position": null,
            "order": null,
            "overflow": null,
            "overflow_x": null,
            "overflow_y": null,
            "padding": null,
            "right": null,
            "top": null,
            "visibility": null,
            "width": null
          }
        },
        "e5e6b50458e64244a21ada8147539fec": {
          "model_module": "@jupyter-widgets/controls",
          "model_name": "DescriptionStyleModel",
          "model_module_version": "1.5.0",
          "state": {
            "_model_module": "@jupyter-widgets/controls",
            "_model_module_version": "1.5.0",
            "_model_name": "DescriptionStyleModel",
            "_view_count": null,
            "_view_module": "@jupyter-widgets/base",
            "_view_module_version": "1.2.0",
            "_view_name": "StyleView",
            "description_width": ""
          }
        }
      }
    }
  },
  "nbformat": 4,
  "nbformat_minor": 0
}